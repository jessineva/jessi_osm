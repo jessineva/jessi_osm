{
 "cells": [
  {
   "cell_type": "markdown",
   "id": "b0eccf27",
   "metadata": {},
   "source": [
    "# osm_tarea\n",
    "Crea una funcion para el manejo de un archivo OSM\n",
    "\n",
    "\n",
    "\n",
    "El archivo \"materiales.osm\" proviene de OpenStudio, es un archivo de texto plano y es utilizado para realizar simulaciones numéricas de edificaciones. La geometría de la edificación, equipo, personas, materiales y sistemas constructivos se encuentran definidos en lo que le llaman Objetos. Existen varios objetos de materiales donde se enlista un hash, nombre del material, espesor y sus propiedades térmicas.\n",
    "\n",
    "Un objeto de un material se ve así:\n",
    "\n",
    "```\n",
    "OS:Material,\n",
    "  {7311a74e-33cf-47e9-a28c-a9a6c74f4083}, !- Handle\n",
    "  MAT-CC05 4 HW CONCRETE,                 !- Name\n",
    "  Rough,                                  !- Roughness\n",
    "  0.1016,                                 !- Thickness {m}\n",
    "  1.311,                                  !- Conductivity {W/m-K}\n",
    "  2240,                                   !- Density {kg/m3}\n",
    "  836.800000000001,                       !- Specific Heat {J/kg-K}\n",
    "  0.9,                                    !- Thermal Absorptance\n",
    "  0.85,                                   !- Solar Absorptance\n",
    "  0.85;                                   !- Visible Absorptance\n",
    "```\n",
    "\n",
    "Cualquier objeto de material siempre empieza con \"OS:Material,\"\n",
    "y termina con \";\"\n",
    "\n",
    "Algunos objetos contienen 11 renglones, otros menos.\n",
    "\n",
    "Escribe un programa que:\n",
    "\n",
    "* Lea cualquier archivo OSM y separe todos los objetos \"OS:Material,\" contenidos en ese archivo OSM sin perder la estructura ni el orden de cada objeto y agrupe esos objetos y los guarde en un archivo al que le puedas especificar el nombre. Ejemplo:\n",
    "```\n",
    "separa(\"materiales.osm\",\"resultado.osm\")  \n",
    "```\n",
    "donde materiales.osm es el archivo original y resultado.osm contiene los objetos de materiales.\n",
    "* El programa debe estar documentado y contenido en una función.\n",
    "* Se debe entregar en un repositorio de GitHub con el siguiente nombre del repo: \"nombre_osm\" donde nombre es tu nombre de pila, ya no debe haber ningún \"push\" después de la fecha de entrega, entregas una liga y el repo debe ser público.\n",
    "* Tenga la estructura adecuada en folders."
   ]
  },
  {
   "cell_type": "code",
   "execution_count": 411,
   "id": "58d6f707",
   "metadata": {},
   "outputs": [],
   "source": [
    "def separa(origen, destino):                                   #Definición de la función, la variable origen es el archivo original y la variable destino es el archivo con el resultado\n",
    "    with open(f\"../data/{origen}\",\"r\") as content_file:        #Abrir y leer el archivo original\n",
    "        materiales=content_file.read().splitlines()            #materiales es una lista\n",
    "        \n",
    "    resu = []                                                  #En esta lista se agregan los objetos ya separados\n",
    "    while materiales.count(\"OS:Material,\") != 0 :              #Condición para que se detenga cuando ya no haya objetos de material\n",
    "        for line in materiales:                                #Localizacíon de los objetos\n",
    "            if line == \"OS:Material,\":                         #Localizacíon del índice en cuanto comienza el objeto\n",
    "                inicio = materiales[materiales.index(line)::]  #Lista a partir del primer objeto de material en adelante (esto es para asegurar que no tome valores previos en la siguiente línea)\n",
    "        for fin in inicio:                                     #Localización del final del objeto \n",
    "            if fin ==\"\":                                       #Se detiene en cuanto encuentra el siguiente salto de párrafo\n",
    "                objeto = inicio[:inicio.index(fin):]           #Lista del objeto    \n",
    "                objeto.append(\"\")                              #Salto de párrafo\n",
    "        resu= resu + objeto                                    #Lista final con todos los objetos del archivo original\n",
    "        materiales.remove(\"OS:Material,\")                      #Eliminación del primer \"OS:Material,\" para que el código continúe con el siguiente\n",
    "    \n",
    "\n",
    "    resultado_osm=open(f\"../data/{destino}\", \"w\")              #Creación del nuevo archivo para escribir\n",
    "    for objeto in resu:                                        #Escritura de cada objeto de la lista final\n",
    "            resultado_osm.write(objeto)\n",
    "            resultado_osm.write(\"\\n\")                          #Espacio entre párrafos\n",
    "    resultado_osm.close()                                      #Cierre del nuevo archivo"
   ]
  },
  {
   "cell_type": "code",
   "execution_count": 412,
   "id": "21354075",
   "metadata": {},
   "outputs": [],
   "source": [
    "separa (\"materiales.osm\", \"resultado.osm\")                     #Función en acción"
   ]
  }
 ],
 "metadata": {
  "kernelspec": {
   "display_name": "Python 3",
   "language": "python",
   "name": "python3"
  },
  "language_info": {
   "codemirror_mode": {
    "name": "ipython",
    "version": 3
   },
   "file_extension": ".py",
   "mimetype": "text/x-python",
   "name": "python",
   "nbconvert_exporter": "python",
   "pygments_lexer": "ipython3",
   "version": "3.9.4"
  }
 },
 "nbformat": 4,
 "nbformat_minor": 5
}
